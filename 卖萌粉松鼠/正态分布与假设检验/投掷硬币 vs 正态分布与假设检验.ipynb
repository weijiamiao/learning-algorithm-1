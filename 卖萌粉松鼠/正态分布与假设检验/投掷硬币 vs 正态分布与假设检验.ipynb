{
 "cells": [
  {
   "cell_type": "markdown",
   "metadata": {},
   "source": [
    "# # 投掷硬币 vs 正态分布与假设检验\n",
    "\n",
    "0.说在前面 1.投掷硬币 vs 正态分布与假设检验  2.作者的话\n"
   ]
  },
  {
   "cell_type": "markdown",
   "metadata": {},
   "source": [
    "# 0.说在前面\n",
    "\n",
    "基于大数定律和中心极限定律，使用正态分布拟合二项分布，并且计算某一个变量位于特定区间的概率以及相关假设检验的置信区间。"
   ]
  },
  {
   "cell_type": "markdown",
   "metadata": {},
   "source": [
    "# 1.投掷硬币 vs 正态分布与假设检验\n",
    "### 正态分布的概率累积分布函数\n",
    "以下函数 normal_distribution_cdf 是正态分布的概率累积分布函数。"
   ]
  },
  {
   "cell_type": "code",
   "execution_count": 12,
   "metadata": {},
   "outputs": [],
   "source": [
    "import math\n",
    "def normal_distribution_cdf(x, mu = 0, sigma = 1):\n",
    "    '''\n",
    "    正态分布概率累积分布函数\n",
    "    \n",
    "    参数：\n",
    "        x: 数值型，正态分布中自变量的某个取值\n",
    "        mu: 数值型，正态分布的均值，默认值为0\n",
    "        sigma: 数值型，正态分布的标准差，默认值为1\n",
    "        \n",
    "    返回值：\n",
    "        数值型，正态分布中落于小于x区间的概率\n",
    "    '''\n",
    "    return (1 + math.erf((x-mu) / math.sqrt(2) / sigma)) / 2"
   ]
  },
  {
   "cell_type": "markdown",
   "metadata": {},
   "source": [
    "### 定义函数计算变量位于特定区间的概率\n",
    "基于正态分布概率累积分布函数 normal_distribution_cdf, 定义以下四个函数，分别计算变量位于：<br>\n",
    "1. 小于阈值的概率\n",
    "2. 大于等于阈值的概率\n",
    "3. 大于某个较小阈值并且小于某个较大阈值的概率\n",
    "4. 小于某个较小阈值或者大于某个较大阈值的概率"
   ]
  },
  {
   "cell_type": "code",
   "execution_count": 13,
   "metadata": {},
   "outputs": [],
   "source": [
    "\n",
    "# normal_pro_below 函数用以计算变量小于阈值的概率\n",
    "# 请基于 normal_distribution_cdf 定义 normal_pro_below\n",
    "\n",
    "def normal_pro_below(bound, mu = 0, sigma =1):\n",
    "    return normal_distribution_cdf(bound, mu, sigma)\n",
    "\n",
    "# normal_pro_above 函数用以计算变量大于阈值的概率\n",
    "def normal_pro_above(bound, mu = 0, sigma =1):\n",
    "    '''\n",
    "    计算变量大于阈值的概率\n",
    "    \n",
    "    参数：\n",
    "        bound: 数值型，阈值\n",
    "        mu: 数值型，正态分布的均值，默认值为0\n",
    "        sigma: 数值型，正态分布的标准差，默认值为1\n",
    "        \n",
    "    返回值：\n",
    "        数值型，正态分布中落于大于阈值的概率\n",
    "        \n",
    "    '''\n",
    "    # 请基于 normal_distribution_cdf 定义 normal_pro_above\n",
    "    \n",
    "    \n",
    "    return 1- normal_distribution_cdf(bound, mu, sigma)\n",
    "\n",
    "\n",
    "# normal_pro_between 函数用以计算变量大于某个较小阈值并且小于某个较大阈值的概率\n",
    "def normal_pro_between(lower_bound, upper_bound, mu = 0, sigma = 1):\n",
    "    '''\n",
    "    计算变量大于某个较小阈值并且小于某个较大阈值的概率\n",
    "    \n",
    "    参数：\n",
    "        lower_bound: 数值型，较小阈值\n",
    "        upper_bound: 数值型，较大阈值\n",
    "        mu: 数值型，正态分布的均值，默认值为0\n",
    "        sigma: 数值型，正态分布的标准差，默认值为1\n",
    "        \n",
    "    返回值：\n",
    "        数值型，正态分布中落于大于某个较小阈值小于某个较大阈值的概率\n",
    "    '''\n",
    "    # 请基于 normal_distribution_cdf 定义 normal_pro_between\n",
    "    return normal_distribution_cdf(upper_bound, mu, sigma) - normal_distribution_cdf(lower_bound, mu, sigma)\n",
    "\n",
    "\n",
    "# normal_pro_between 函数用以计算小于某个较小阈值或大于某个较大阈值的概率\n",
    "def normal_pro_outside(lower_bound, upper_bound, mu = 0, sigma = 1):\n",
    "    '''\n",
    "    计算变量小于某个较小阈值或大于某个较大阈值的概率\n",
    "    \n",
    "    参数：\n",
    "        lower_bound: 数值型，较小阈值\n",
    "        upper_bound: 数值型，较大阈值\n",
    "        mu: 数值型，正态分布的均值，默认值为0\n",
    "        sigma: 数值型，正态分布的标准差，默认值为1\n",
    "        \n",
    "    返回值：\n",
    "        数值型，正态分布中落于小于某个较小阈值或大于某个较大阈值的概率\n",
    "    '''\n",
    "    # 请基于 normal_distribution_cdf 定义 normal_pro_outside\n",
    "    return  normal_distribution_cdf(lower_bound, mu, sigma) + 1 - normal_distribution_cdf(upper_bound, mu, sigma)"
   ]
  },
  {
   "cell_type": "markdown",
   "metadata": {},
   "source": [
    "### 正态分布计算某一个特定累计概率的相应自变量值函数\n",
    "使用以下函数 inverse_normal_cdf 可以计算正态分布中某一个特定的累计概率所对应的自变量取值。<br>\n",
    "normal_distribution_cdf 严格递增，以下函数使用二分查找法计算。"
   ]
  },
  {
   "cell_type": "code",
   "execution_count": 14,
   "metadata": {},
   "outputs": [],
   "source": [
    "def inverse_normal_distribution_cdf(p, mu=0, sigma=1, tolerance = 0.00001):\n",
    "    '''\n",
    "    计算正态分布中某一个特定的累计概率所对应的自变量取值\n",
    "    \n",
    "    参数：\n",
    "        p: 数值型，特定概率值\n",
    "        mu: 数值型，正态分布的均值，默认值为0\n",
    "        sigma: 数值型，正态分布的标准差，默认值为1\n",
    "        tolerance: 数值型，容错率\n",
    "        \n",
    "    返回值：\n",
    "        数值型，与特定概率值p对应的自变量取值\n",
    "    '''\n",
    "    if mu != 0 or sigma != 1:\n",
    "        return mu + sigma*inverse_normal_distribution_cdf(p,tolerance = tolerance)\n",
    "    low_z, low_p = -10.0, 0\n",
    "    up_z, up_p = 10.0, 1\n",
    "    while up_z - low_z > tolerance:\n",
    "        mid_z = (low_z + up_z) / 2\n",
    "        mid_p = normal_distribution_cdf(mid_z)\n",
    "        if mid_p < p:\n",
    "            low_z, low_p = mid_z, mid_p\n",
    "        elif mid_p > p:\n",
    "            up_z, up_p = mid_z, mid_p\n",
    "        else:\n",
    "            break\n",
    "            \n",
    "    return mid_z\n"
   ]
  },
  {
   "cell_type": "markdown",
   "metadata": {},
   "source": [
    "### 计算特定累积概率对应阈值\n",
    "基于 inverse_normal_distribution_cdf 函数, 定义以下三个函数，分别计算正态分布中：<br>\n",
    "1. 小于某概率即左尾阈值\n",
    "2. 大于某概率即右尾阈值\n",
    "3. 双尾阈值，即上下限"
   ]
  },
  {
   "cell_type": "code",
   "execution_count": 15,
   "metadata": {},
   "outputs": [],
   "source": [
    "def normal_upper_bound(pro, mu = 0, sigma = 1):\n",
    "    '''\n",
    "    计算正态分布中小于某概率的阈值\n",
    "    \n",
    "    参数：\n",
    "        pro: 数值型，特定概率值\n",
    "        mu: 数值型，正态分布的均值，默认值为0\n",
    "        sigma: 数值型，正态分布的标准差，默认值为1\n",
    "        \n",
    "    返回值：\n",
    "        数值型，小于特定概率值p对应的自变量取值\n",
    "    '''\n",
    "    # 请基于 inverse_normal_distribution_cdf 定义 normal_upper_bound\n",
    "    return inverse_normal_distribution_cdf(pro, mu, sigma, tolerance = 0.00001)\n",
    "\n",
    "\n",
    "def normal_lower_bound(pro, mu = 0, sigma = 1):\n",
    "    '''\n",
    "    计算正态分布中大于某概率的阈值\n",
    "    \n",
    "    参数：\n",
    "        pro: 数值型，特定概率值\n",
    "        mu: 数值型，正态分布的均值，默认值为0\n",
    "        sigma: 数值型，正态分布的标准差，默认值为1\n",
    "        \n",
    "    返回值：\n",
    "        数值型，大于特定概率值p对应的自变量取值\n",
    "    '''\n",
    "    # 请基于 inverse_normal_distribution_cdf 定义 normal_lower_bound\n",
    "    # 等同于概率小于 1-pro 时的阈值\n",
    "    return inverse_normal_distribution_cdf(1 - pro, mu, sigma, tolerance = 0.00001)\n",
    "\n",
    "\n",
    "def normal_twosided_bounds(pro, mu = 0, sigma = 1):\n",
    "    '''\n",
    "    计算正态分布中双尾阈值\n",
    "    \n",
    "    参数：\n",
    "        pro: 数值型，特定概率值\n",
    "        mu: 数值型，正态分布的均值，默认值为0\n",
    "        sigma: 数值型，正态分布的标准差，默认值为1\n",
    "        \n",
    "    返回值：\n",
    "        lower_bound: 数值型，下限\n",
    "        upper_bound: 数值型，上限\n",
    "    '''\n",
    "    # 请基于 inverse_normal_distribution_cdf 定义 normal_twosided_bounds\n",
    "    # 或者调用 normal_lower_bound 及 normal_upper_bound 函数定义 normal_twosided_bounds\n",
    "    # 注意：双尾部分的概率和为 1-pro，则下限左侧及上限右侧的概率分别为（1-pro) 的 1/2\n",
    "    lower_bound = inverse_normal_distribution_cdf((1-pro)/2, mu, sigma, tolerance = 0.00001)\n",
    "    upper_bound = inverse_normal_distribution_cdf((1+pro)/2, mu, sigma, tolerance = 0.00001)\n",
    "    return lower_bound, upper_bound\n"
   ]
  },
  {
   "cell_type": "markdown",
   "metadata": {},
   "source": [
    "### 投掷硬币试验\n",
    "现有一枚均匀的硬币，投掷n次，正面朝上的次数记为X，每次试验都可以看做一次伯努利试验，那么X满足二项分布 B(n,p)。<br>\n",
    "当进行了大量的试验，试验结果近似服从正态分布，可以使用正态分布来拟合。"
   ]
  },
  {
   "cell_type": "code",
   "execution_count": 16,
   "metadata": {},
   "outputs": [],
   "source": [
    "# 计算正态分布拟合的二项分布的均值和标准差的函数\n",
    "def normal_binomial(n,p):\n",
    "    '''\n",
    "    计算正态分布拟合的二项分布的均值和标准差\n",
    "    \n",
    "    参数：\n",
    "        n: 数值型，试验次数\n",
    "        p: 数值型，每次伯努利试验目标事件出现的概率\n",
    "        \n",
    "    返回值：\n",
    "        mu: 数值型，均值\n",
    "        sigma: 数值型，标准差\n",
    "    '''\n",
    "    mu = n*p\n",
    "    sigma = (n*p*(1-p))**0.5\n",
    "    \n",
    "    return mu, sigma"
   ]
  },
  {
   "cell_type": "markdown",
   "metadata": {},
   "source": [
    "#### 计算变量位于某一特定区间的概率\n",
    "现投掷了2000次硬币，请使用以上函数计算："
   ]
  },
  {
   "cell_type": "markdown",
   "metadata": {},
   "source": [
    "1) 出现正面朝上次数小于995次的概率"
   ]
  },
  {
   "cell_type": "code",
   "execution_count": 17,
   "metadata": {},
   "outputs": [
    {
     "data": {
      "text/plain": [
       "0.41153163687906075"
      ]
     },
     "execution_count": 17,
     "metadata": {},
     "output_type": "execute_result"
    }
   ],
   "source": [
    "\n",
    "mu, sigma= normal_binomial(2000,0.5)\n",
    "\n",
    "normal_pro_below(995, mu =mu, sigma =sigma)\n",
    "\n"
   ]
  },
  {
   "cell_type": "markdown",
   "metadata": {},
   "source": [
    "2) 出现正面朝上次数大于990次的概率"
   ]
  },
  {
   "cell_type": "code",
   "execution_count": 18,
   "metadata": {
    "scrolled": true
   },
   "outputs": [
    {
     "data": {
      "text/plain": [
       "0.6726395769907114"
      ]
     },
     "execution_count": 18,
     "metadata": {},
     "output_type": "execute_result"
    }
   ],
   "source": [
    "\n",
    "normal_pro_above(990, mu = mu, sigma =sigma)"
   ]
  },
  {
   "cell_type": "markdown",
   "metadata": {},
   "source": [
    "3) 出现正面朝上次数大于998次且小于1010次的概率"
   ]
  },
  {
   "cell_type": "code",
   "execution_count": 19,
   "metadata": {
    "scrolled": true
   },
   "outputs": [
    {
     "data": {
      "text/plain": [
       "0.2082745397083101"
      ]
     },
     "execution_count": 19,
     "metadata": {},
     "output_type": "execute_result"
    }
   ],
   "source": [
    "\n",
    "normal_pro_between(998, 1010, mu = mu, sigma =sigma)\n"
   ]
  },
  {
   "cell_type": "markdown",
   "metadata": {},
   "source": [
    "4) 出现正面朝上次数小于990或者大于1030次的概率"
   ]
  },
  {
   "cell_type": "code",
   "execution_count": 20,
   "metadata": {},
   "outputs": [
    {
     "data": {
      "text/plain": [
       "0.4172166704487885"
      ]
     },
     "execution_count": 20,
     "metadata": {},
     "output_type": "execute_result"
    }
   ],
   "source": [
    "\n",
    "normal_pro_outside(990, 1030, mu = mu, sigma = sigma)\n"
   ]
  },
  {
   "cell_type": "markdown",
   "metadata": {},
   "source": [
    "### 假设检验\n",
    "现有一枚硬币，投掷2000次，根据中心极限定理，伯努利随机变量的均值近似服从正态分布，<br>"
   ]
  },
  {
   "cell_type": "markdown",
   "metadata": {},
   "source": [
    "1) 投掷的结果发现，有1100次正面朝上，那么我们可以估计这枚硬币是均匀的吗？"
   ]
  },
  {
   "cell_type": "code",
   "execution_count": 21,
   "metadata": {},
   "outputs": [
    {
     "name": "stdout",
     "output_type": "stream",
     "text": [
      "原假设H0: P = 0.5，硬币是均匀的\n",
      "拒绝原假设H0: P = 0.5，硬币是不均匀的\n"
     ]
    }
   ],
   "source": [
    "\n",
    "# 请计算在显著性水平为0.05（传入的参数pro=0.95）的情况下，是否可以认为硬币是均匀的\n",
    "# 硬币均匀的条件是: 正面朝上的概率P为0.5 \n",
    "# 原假设 H0: P = 0.5, 如果0.5落于双尾上下限之间，那么不能拒绝原假设，则认为硬币是均匀的，反之拒绝原假设，认为硬币是不均匀的\n",
    "# 调用函数计算阈值时使用的均值和标准差参数为本实验结果的均值和标准差\n",
    "print('原假设H0: P = 0.5，硬币是均匀的')\n",
    "mu = 0.5\n",
    "pro=0.95\n",
    "mu_1 = 1100/2000\n",
    "sigma_1 = (mu_1*(1-mu_1)/2000)**0.5\n",
    "lower_bound1, upper_bound1 = normal_twosided_bounds(pro, mu_1, sigma_1)\n",
    "\n",
    "if (mu < lower_bound1 )| (mu > upper_bound1):\n",
    "    print ('拒绝原假设H0: P = 0.5，硬币是不均匀的')\n",
    "else: \n",
    "    print ('接受原假设H0: P =0.5，硬币是均匀的')\n",
    "    \n"
   ]
  },
  {
   "cell_type": "markdown",
   "metadata": {},
   "source": [
    "1) 投掷的结果发现，有1050次正面朝上，那么我们可以估计这枚硬币是均匀的吗？"
   ]
  },
  {
   "cell_type": "code",
   "execution_count": 22,
   "metadata": {},
   "outputs": [
    {
     "name": "stdout",
     "output_type": "stream",
     "text": [
      "原假设H0: P = 0.5，硬币是均匀的\n",
      "拒绝原假设H0: P = 0.5，硬币是不均匀的\n"
     ]
    }
   ],
   "source": [
    "\n",
    "# 请计算在显著性水平为0.05的情况下，是否可以认为硬币是均匀的\n",
    "# 其余需要注意的点同 1）中的注释\n",
    "print('原假设H0: P = 0.5，硬币是均匀的')\n",
    "mu = 0.5\n",
    "pro=0.95\n",
    "mu_2 = 1050/2000\n",
    "sigma_2 = (mu_2*(1-mu_2)/2000)**0.5\n",
    "lower_bound2, upper_bound2 = normal_twosided_bounds(pro, mu_2, sigma_2)\n",
    "\n",
    "if (mu < lower_bound2 )| (mu > upper_bound2):\n",
    "    print ('拒绝原假设H0: P = 0.5，硬币是不均匀的')\n",
    "else: \n",
    "    print ('接受原假设H0: P =0.5，硬币是均匀的')\n"
   ]
  }
 ],
 "metadata": {
  "kernelspec": {
   "display_name": "Python 3",
   "language": "python",
   "name": "python3"
  },
  "language_info": {
   "codemirror_mode": {
    "name": "ipython",
    "version": 3
   },
   "file_extension": ".py",
   "mimetype": "text/x-python",
   "name": "python",
   "nbconvert_exporter": "python",
   "pygments_lexer": "ipython3",
   "version": "3.7.0"
  }
 },
 "nbformat": 4,
 "nbformat_minor": 2
}
